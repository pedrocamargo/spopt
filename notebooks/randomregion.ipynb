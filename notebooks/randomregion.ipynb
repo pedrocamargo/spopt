{
 "cells": [
  {
   "cell_type": "markdown",
   "metadata": {},
   "source": [
    "# Random Regions\n",
    "\n",
    "**Author: [Serge Rey](https://github.com/sjsrey)**  \n",
    "\n",
    "## Introduction\n",
    "\n",
    "In this notebook we demonstrate how to use `spopt` to evaluate the\n",
    "properties of a predefined regionalization scheme.\n",
    "\n",
    "`spopt` offers functionality to generate random regions based on user-defined\n",
    "constraints. There are three optional parameters to constrain the\n",
    "regionalization: number of regions, cardinality, and contiguity. The default\n",
    "case simply takes a list of area IDs and randomly selects the number of regions\n",
    "and then allocates areas to each region. The user can also pass a vector of\n",
    "integers to the cardinality parameter to designate the number of areas to\n",
    "randomly assign to each region. The contiguity parameter takes a spatial\n",
    "weights object and uses that to ensure that each region is made up of spatially\n",
    "contiguous areas. When the contiguity constraint is enforced, it is possible to\n",
    "arrive at infeasible solutions; the maxiter parameter can be set to make\n",
    "multiple attempts to find a feasible solution. \n",
    "\n",
    "## Evaluating Regional Partitions: The case of Mexican state incomes\n",
    "\n",
    "\n",
    "\n",
    "We begin with importing the relevant packages:"
   ]
  },
  {
   "cell_type": "code",
   "execution_count": 1,
   "metadata": {},
   "outputs": [],
   "source": [
    "import random\n",
    "import numpy as np\n",
    "from spopt.region import RandomRegion, RandomRegions\n",
    "import geopandas as gpd\n",
    "import libpysal\n",
    "import matplotlib.pyplot as plt\n",
    "plt.rcParams['figure.figsize'] = [10, 5]\n"
   ]
  },
  {
   "cell_type": "markdown",
   "metadata": {},
   "source": [
    "We will be using the built-in example data set `mexico` from the [libpysal]()\n",
    "package. First, we get a high-level overview of the example:"
   ]
  },
  {
   "cell_type": "code",
   "execution_count": 2,
   "metadata": {},
   "outputs": [
    {
     "name": "stdout",
     "output_type": "stream",
     "text": [
      "mexico\n",
      "======\n",
      "\n",
      "Decennial per capita incomes of Mexican states 1940-2000\n",
      "--------------------------------------------------------\n",
      "\n",
      "* mexico.csv: attribute data. (n=32, k=13)\n",
      "* mexico.gal: spatial weights in GAL format.\n",
      "* mexicojoin.shp: Polygon shapefile. (n=32)\n",
      "\n",
      "Data used in Rey, S.J. and M.L. Sastre Gutierrez. (2010) \"Interregional inequality dynamics in Mexico.\" Spatial Economic Analysis, 5: 277-298.\n",
      "\n"
     ]
    }
   ],
   "source": [
    "libpysal.examples.explain('mexico')"
   ]
  },
  {
   "cell_type": "code",
   "execution_count": 3,
   "metadata": {},
   "outputs": [],
   "source": [
    "mdf = gpd.read_file(libpysal.examples.get_path('mexicojoin.shp'))"
   ]
  },
  {
   "cell_type": "code",
   "execution_count": 4,
   "metadata": {},
   "outputs": [
    {
     "data": {
      "text/html": [
       "<div>\n",
       "<style scoped>\n",
       "    .dataframe tbody tr th:only-of-type {\n",
       "        vertical-align: middle;\n",
       "    }\n",
       "\n",
       "    .dataframe tbody tr th {\n",
       "        vertical-align: top;\n",
       "    }\n",
       "\n",
       "    .dataframe thead th {\n",
       "        text-align: right;\n",
       "    }\n",
       "</style>\n",
       "<table border=\"1\" class=\"dataframe\">\n",
       "  <thead>\n",
       "    <tr style=\"text-align: right;\">\n",
       "      <th></th>\n",
       "      <th>POLY_ID</th>\n",
       "      <th>AREA</th>\n",
       "      <th>CODE</th>\n",
       "      <th>NAME</th>\n",
       "      <th>PERIMETER</th>\n",
       "      <th>ACRES</th>\n",
       "      <th>HECTARES</th>\n",
       "      <th>PCGDP1940</th>\n",
       "      <th>PCGDP1950</th>\n",
       "      <th>PCGDP1960</th>\n",
       "      <th>...</th>\n",
       "      <th>GR9000</th>\n",
       "      <th>LPCGDP40</th>\n",
       "      <th>LPCGDP50</th>\n",
       "      <th>LPCGDP60</th>\n",
       "      <th>LPCGDP70</th>\n",
       "      <th>LPCGDP80</th>\n",
       "      <th>LPCGDP90</th>\n",
       "      <th>LPCGDP00</th>\n",
       "      <th>TEST</th>\n",
       "      <th>geometry</th>\n",
       "    </tr>\n",
       "  </thead>\n",
       "  <tbody>\n",
       "    <tr>\n",
       "      <th>0</th>\n",
       "      <td>1</td>\n",
       "      <td>7.252751e+10</td>\n",
       "      <td>MX02</td>\n",
       "      <td>Baja California Norte</td>\n",
       "      <td>2040312.385</td>\n",
       "      <td>1.792187e+07</td>\n",
       "      <td>7252751.376</td>\n",
       "      <td>22361.0</td>\n",
       "      <td>20977.0</td>\n",
       "      <td>17865.0</td>\n",
       "      <td>...</td>\n",
       "      <td>0.05</td>\n",
       "      <td>4.35</td>\n",
       "      <td>4.32</td>\n",
       "      <td>4.25</td>\n",
       "      <td>4.40</td>\n",
       "      <td>4.47</td>\n",
       "      <td>4.43</td>\n",
       "      <td>4.48</td>\n",
       "      <td>1.0</td>\n",
       "      <td>MULTIPOLYGON (((-113.13972 29.01778, -113.2405...</td>\n",
       "    </tr>\n",
       "    <tr>\n",
       "      <th>1</th>\n",
       "      <td>2</td>\n",
       "      <td>7.225988e+10</td>\n",
       "      <td>MX03</td>\n",
       "      <td>Baja California Sur</td>\n",
       "      <td>2912880.772</td>\n",
       "      <td>1.785573e+07</td>\n",
       "      <td>7225987.769</td>\n",
       "      <td>9573.0</td>\n",
       "      <td>16013.0</td>\n",
       "      <td>16707.0</td>\n",
       "      <td>...</td>\n",
       "      <td>0.00</td>\n",
       "      <td>3.98</td>\n",
       "      <td>4.20</td>\n",
       "      <td>4.22</td>\n",
       "      <td>4.39</td>\n",
       "      <td>4.46</td>\n",
       "      <td>4.41</td>\n",
       "      <td>4.42</td>\n",
       "      <td>2.0</td>\n",
       "      <td>MULTIPOLYGON (((-111.20612 25.80278, -111.2302...</td>\n",
       "    </tr>\n",
       "    <tr>\n",
       "      <th>2</th>\n",
       "      <td>3</td>\n",
       "      <td>2.731957e+10</td>\n",
       "      <td>MX18</td>\n",
       "      <td>Nayarit</td>\n",
       "      <td>1034770.341</td>\n",
       "      <td>6.750785e+06</td>\n",
       "      <td>2731956.859</td>\n",
       "      <td>4836.0</td>\n",
       "      <td>7515.0</td>\n",
       "      <td>7621.0</td>\n",
       "      <td>...</td>\n",
       "      <td>-0.05</td>\n",
       "      <td>3.68</td>\n",
       "      <td>3.88</td>\n",
       "      <td>3.88</td>\n",
       "      <td>4.04</td>\n",
       "      <td>4.13</td>\n",
       "      <td>4.11</td>\n",
       "      <td>4.06</td>\n",
       "      <td>3.0</td>\n",
       "      <td>MULTIPOLYGON (((-106.62108 21.56531, -106.6475...</td>\n",
       "    </tr>\n",
       "    <tr>\n",
       "      <th>3</th>\n",
       "      <td>4</td>\n",
       "      <td>7.961008e+10</td>\n",
       "      <td>MX14</td>\n",
       "      <td>Jalisco</td>\n",
       "      <td>2324727.436</td>\n",
       "      <td>1.967200e+07</td>\n",
       "      <td>7961008.285</td>\n",
       "      <td>5309.0</td>\n",
       "      <td>8232.0</td>\n",
       "      <td>9953.0</td>\n",
       "      <td>...</td>\n",
       "      <td>0.03</td>\n",
       "      <td>3.73</td>\n",
       "      <td>3.92</td>\n",
       "      <td>4.00</td>\n",
       "      <td>4.21</td>\n",
       "      <td>4.32</td>\n",
       "      <td>4.30</td>\n",
       "      <td>4.33</td>\n",
       "      <td>4.0</td>\n",
       "      <td>POLYGON ((-101.52490 21.85664, -101.58830 21.7...</td>\n",
       "    </tr>\n",
       "    <tr>\n",
       "      <th>4</th>\n",
       "      <td>5</td>\n",
       "      <td>5.467030e+09</td>\n",
       "      <td>MX01</td>\n",
       "      <td>Aguascalientes</td>\n",
       "      <td>313895.530</td>\n",
       "      <td>1.350927e+06</td>\n",
       "      <td>546702.985</td>\n",
       "      <td>10384.0</td>\n",
       "      <td>6234.0</td>\n",
       "      <td>8714.0</td>\n",
       "      <td>...</td>\n",
       "      <td>0.13</td>\n",
       "      <td>4.02</td>\n",
       "      <td>3.79</td>\n",
       "      <td>3.94</td>\n",
       "      <td>4.21</td>\n",
       "      <td>4.32</td>\n",
       "      <td>4.32</td>\n",
       "      <td>4.44</td>\n",
       "      <td>5.0</td>\n",
       "      <td>POLYGON ((-101.84620 22.01176, -101.96530 21.8...</td>\n",
       "    </tr>\n",
       "  </tbody>\n",
       "</table>\n",
       "<p>5 rows × 35 columns</p>\n",
       "</div>"
      ],
      "text/plain": [
       "   POLY_ID          AREA  CODE                   NAME    PERIMETER  \\\n",
       "0        1  7.252751e+10  MX02  Baja California Norte  2040312.385   \n",
       "1        2  7.225988e+10  MX03    Baja California Sur  2912880.772   \n",
       "2        3  2.731957e+10  MX18                Nayarit  1034770.341   \n",
       "3        4  7.961008e+10  MX14                Jalisco  2324727.436   \n",
       "4        5  5.467030e+09  MX01         Aguascalientes   313895.530   \n",
       "\n",
       "          ACRES     HECTARES  PCGDP1940  PCGDP1950  PCGDP1960  ...  GR9000  \\\n",
       "0  1.792187e+07  7252751.376    22361.0    20977.0    17865.0  ...    0.05   \n",
       "1  1.785573e+07  7225987.769     9573.0    16013.0    16707.0  ...    0.00   \n",
       "2  6.750785e+06  2731956.859     4836.0     7515.0     7621.0  ...   -0.05   \n",
       "3  1.967200e+07  7961008.285     5309.0     8232.0     9953.0  ...    0.03   \n",
       "4  1.350927e+06   546702.985    10384.0     6234.0     8714.0  ...    0.13   \n",
       "\n",
       "   LPCGDP40  LPCGDP50  LPCGDP60  LPCGDP70  LPCGDP80  LPCGDP90  LPCGDP00  TEST  \\\n",
       "0      4.35      4.32      4.25      4.40      4.47      4.43      4.48   1.0   \n",
       "1      3.98      4.20      4.22      4.39      4.46      4.41      4.42   2.0   \n",
       "2      3.68      3.88      3.88      4.04      4.13      4.11      4.06   3.0   \n",
       "3      3.73      3.92      4.00      4.21      4.32      4.30      4.33   4.0   \n",
       "4      4.02      3.79      3.94      4.21      4.32      4.32      4.44   5.0   \n",
       "\n",
       "                                            geometry  \n",
       "0  MULTIPOLYGON (((-113.13972 29.01778, -113.2405...  \n",
       "1  MULTIPOLYGON (((-111.20612 25.80278, -111.2302...  \n",
       "2  MULTIPOLYGON (((-106.62108 21.56531, -106.6475...  \n",
       "3  POLYGON ((-101.52490 21.85664, -101.58830 21.7...  \n",
       "4  POLYGON ((-101.84620 22.01176, -101.96530 21.8...  \n",
       "\n",
       "[5 rows x 35 columns]"
      ]
     },
     "execution_count": 4,
     "metadata": {},
     "output_type": "execute_result"
    }
   ],
   "source": [
    "mdf.head()"
   ]
  },
  {
   "cell_type": "markdown",
   "metadata": {},
   "source": [
    "This data set records per capital Gross Domestic Product (PCGDP) for the\n",
    "decades 1940-2000 for 32 Mexican states."
   ]
  },
  {
   "cell_type": "code",
   "execution_count": 5,
   "metadata": {},
   "outputs": [
    {
     "data": {
      "text/plain": [
       "Index(['POLY_ID', 'AREA', 'CODE', 'NAME', 'PERIMETER', 'ACRES', 'HECTARES',\n",
       "       'PCGDP1940', 'PCGDP1950', 'PCGDP1960', 'PCGDP1970', 'PCGDP1980',\n",
       "       'PCGDP1990', 'PCGDP2000', 'HANSON03', 'HANSON98', 'ESQUIVEL99', 'INEGI',\n",
       "       'INEGI2', 'MAXP', 'GR4000', 'GR5000', 'GR6000', 'GR7000', 'GR8000',\n",
       "       'GR9000', 'LPCGDP40', 'LPCGDP50', 'LPCGDP60', 'LPCGDP70', 'LPCGDP80',\n",
       "       'LPCGDP90', 'LPCGDP00', 'TEST', 'geometry'],\n",
       "      dtype='object')"
      ]
     },
     "execution_count": 5,
     "metadata": {},
     "output_type": "execute_result"
    }
   ],
   "source": [
    "mdf.columns"
   ]
  },
  {
   "cell_type": "markdown",
   "metadata": {},
   "source": [
    "We can plot the spatial distribution of regional incomes in the last decade of\n",
    "the sample:"
   ]
  },
  {
   "cell_type": "code",
   "execution_count": 6,
   "metadata": {},
   "outputs": [
    {
     "data": {
      "text/plain": [
       "<matplotlib.axes._subplots.AxesSubplot at 0x7f2a4c643a10>"
      ]
     },
     "execution_count": 6,
     "metadata": {},
     "output_type": "execute_result"
    },
    {
     "data": {
      "image/png": "[encoded data removed]",
      "text/plain": [
       "<Figure size 720x360 with 1 Axes>"
      ]
     },
     "metadata": {
      "needs_background": "light"
     },
     "output_type": "display_data"
    }
   ],
   "source": [
    "mdf.plot(column='PCGDP2000', scheme='quantiles', cmap='Blues',\n",
    "         edgecolor='grey', legend=True,\n",
    "         legend_kwds = {\"fmt\": \"{:.0f}\"})"
   ]
  },
  {
   "cell_type": "markdown",
   "metadata": {},
   "source": [
    "Here we see the north-south divide in the Mexican space economy. This pattern\n",
    "has been the subject of much recent research, and a common methodological\n",
    "strategy in these studies is to *partition* the states into mutually exclusive\n",
    "and exhaustive regions. The motivation is similar to that in traditional\n",
    "clustering where one attempts to group like objects together. Here the regional\n",
    "sets should be composed of states that are more similar to other members of the\n",
    "same set, and distinct from those states in other sets.\n",
    "\n",
    "Our dataset has a number of regionalization schemes from the published\n",
    "literature. Here we will focus on one `HANSON03`. We can plot this partition\n",
    "using a categorical scheme:"
   ]
  },
  {
   "cell_type": "code",
   "execution_count": 7,
   "metadata": {},
   "outputs": [
    {
     "data": {
      "text/plain": [
       "<matplotlib.axes._subplots.AxesSubplot at 0x7f2a3ec78350>"
      ]
     },
     "execution_count": 7,
     "metadata": {},
     "output_type": "execute_result"
    },
    {
     "data": {
      "image/png": "[encoded data removed]",
      "text/plain": [
       "<Figure size 720x360 with 1 Axes>"
      ]
     },
     "metadata": {
      "needs_background": "light"
     },
     "output_type": "display_data"
    }
   ],
   "source": [
    "mdf.plot(column='HANSON03', categorical=True)"
   ]
  },
  {
   "cell_type": "markdown",
   "metadata": {},
   "source": [
    "Here the different colors symbolize membership in a different region. We can\n",
    "examine the cardinality structure of this partition:"
   ]
  },
  {
   "cell_type": "code",
   "execution_count": 8,
   "metadata": {},
   "outputs": [
    {
     "data": {
      "text/plain": [
       "[6, 7, 10, 2, 3, 4]"
      ]
     },
     "execution_count": 8,
     "metadata": {},
     "output_type": "execute_result"
    }
   ],
   "source": [
    "cards = mdf.groupby(by='HANSON03').count().NAME.values.tolist()\n",
    "cards"
   ]
  },
  {
   "cell_type": "markdown",
   "metadata": {},
   "source": [
    "Thus, we see there six regions (sets) of different sizes, the smallest region\n",
    "has only two states, while the largest (in a set-theory sense) has 10 states.\n",
    "We can explore the regional definitions in tabular form:"
   ]
  },
  {
   "cell_type": "code",
   "execution_count": 9,
   "metadata": {},
   "outputs": [
    {
     "data": {
      "text/html": [
       "<div>\n",
       "<style scoped>\n",
       "    .dataframe tbody tr th:only-of-type {\n",
       "        vertical-align: middle;\n",
       "    }\n",
       "\n",
       "    .dataframe tbody tr th {\n",
       "        vertical-align: top;\n",
       "    }\n",
       "\n",
       "    .dataframe thead th {\n",
       "        text-align: right;\n",
       "    }\n",
       "</style>\n",
       "<table border=\"1\" class=\"dataframe\">\n",
       "  <thead>\n",
       "    <tr style=\"text-align: right;\">\n",
       "      <th></th>\n",
       "      <th>NAME</th>\n",
       "      <th>HANSON03</th>\n",
       "      <th>PCGDP2000</th>\n",
       "    </tr>\n",
       "  </thead>\n",
       "  <tbody>\n",
       "    <tr>\n",
       "      <th>0</th>\n",
       "      <td>Baja California Norte</td>\n",
       "      <td>1.0</td>\n",
       "      <td>29855.0</td>\n",
       "    </tr>\n",
       "    <tr>\n",
       "      <th>29</th>\n",
       "      <td>Nuevo Leon</td>\n",
       "      <td>1.0</td>\n",
       "      <td>38672.0</td>\n",
       "    </tr>\n",
       "    <tr>\n",
       "      <th>24</th>\n",
       "      <td>Coahuila De Zaragoza</td>\n",
       "      <td>1.0</td>\n",
       "      <td>28460.0</td>\n",
       "    </tr>\n",
       "    <tr>\n",
       "      <th>23</th>\n",
       "      <td>Chihuahua</td>\n",
       "      <td>1.0</td>\n",
       "      <td>30735.0</td>\n",
       "    </tr>\n",
       "    <tr>\n",
       "      <th>22</th>\n",
       "      <td>Sonora</td>\n",
       "      <td>1.0</td>\n",
       "      <td>24068.0</td>\n",
       "    </tr>\n",
       "    <tr>\n",
       "      <th>30</th>\n",
       "      <td>Tamaulipas</td>\n",
       "      <td>1.0</td>\n",
       "      <td>23546.0</td>\n",
       "    </tr>\n",
       "    <tr>\n",
       "      <th>1</th>\n",
       "      <td>Baja California Sur</td>\n",
       "      <td>2.0</td>\n",
       "      <td>26103.0</td>\n",
       "    </tr>\n",
       "    <tr>\n",
       "      <th>2</th>\n",
       "      <td>Nayarit</td>\n",
       "      <td>2.0</td>\n",
       "      <td>11478.0</td>\n",
       "    </tr>\n",
       "    <tr>\n",
       "      <th>4</th>\n",
       "      <td>Aguascalientes</td>\n",
       "      <td>2.0</td>\n",
       "      <td>27782.0</td>\n",
       "    </tr>\n",
       "    <tr>\n",
       "      <th>28</th>\n",
       "      <td>San Luis Potosi</td>\n",
       "      <td>2.0</td>\n",
       "      <td>15866.0</td>\n",
       "    </tr>\n",
       "    <tr>\n",
       "      <th>27</th>\n",
       "      <td>Zacatecas</td>\n",
       "      <td>2.0</td>\n",
       "      <td>11130.0</td>\n",
       "    </tr>\n",
       "    <tr>\n",
       "      <th>26</th>\n",
       "      <td>Durango</td>\n",
       "      <td>2.0</td>\n",
       "      <td>17379.0</td>\n",
       "    </tr>\n",
       "    <tr>\n",
       "      <th>25</th>\n",
       "      <td>Sinaloa</td>\n",
       "      <td>2.0</td>\n",
       "      <td>15242.0</td>\n",
       "    </tr>\n",
       "    <tr>\n",
       "      <th>17</th>\n",
       "      <td>Tlaxcala</td>\n",
       "      <td>3.0</td>\n",
       "      <td>11701.0</td>\n",
       "    </tr>\n",
       "    <tr>\n",
       "      <th>15</th>\n",
       "      <td>Puebla</td>\n",
       "      <td>3.0</td>\n",
       "      <td>15685.0</td>\n",
       "    </tr>\n",
       "    <tr>\n",
       "      <th>31</th>\n",
       "      <td>Veracruz-Llave</td>\n",
       "      <td>3.0</td>\n",
       "      <td>12191.0</td>\n",
       "    </tr>\n",
       "    <tr>\n",
       "      <th>3</th>\n",
       "      <td>Jalisco</td>\n",
       "      <td>3.0</td>\n",
       "      <td>21610.0</td>\n",
       "    </tr>\n",
       "    <tr>\n",
       "      <th>12</th>\n",
       "      <td>Morelos</td>\n",
       "      <td>3.0</td>\n",
       "      <td>18170.0</td>\n",
       "    </tr>\n",
       "    <tr>\n",
       "      <th>5</th>\n",
       "      <td>Guanajuato</td>\n",
       "      <td>3.0</td>\n",
       "      <td>15585.0</td>\n",
       "    </tr>\n",
       "    <tr>\n",
       "      <th>6</th>\n",
       "      <td>Queretaro de Arteaga</td>\n",
       "      <td>3.0</td>\n",
       "      <td>26149.0</td>\n",
       "    </tr>\n",
       "    <tr>\n",
       "      <th>7</th>\n",
       "      <td>Hidalgo</td>\n",
       "      <td>3.0</td>\n",
       "      <td>12348.0</td>\n",
       "    </tr>\n",
       "    <tr>\n",
       "      <th>8</th>\n",
       "      <td>Michoacan de Ocampo</td>\n",
       "      <td>3.0</td>\n",
       "      <td>11838.0</td>\n",
       "    </tr>\n",
       "    <tr>\n",
       "      <th>11</th>\n",
       "      <td>Colima</td>\n",
       "      <td>3.0</td>\n",
       "      <td>21358.0</td>\n",
       "    </tr>\n",
       "    <tr>\n",
       "      <th>9</th>\n",
       "      <td>Mexico</td>\n",
       "      <td>4.0</td>\n",
       "      <td>16322.0</td>\n",
       "    </tr>\n",
       "    <tr>\n",
       "      <th>10</th>\n",
       "      <td>Distrito Federal</td>\n",
       "      <td>4.0</td>\n",
       "      <td>54349.0</td>\n",
       "    </tr>\n",
       "    <tr>\n",
       "      <th>21</th>\n",
       "      <td>Chiapas</td>\n",
       "      <td>5.0</td>\n",
       "      <td>8684.0</td>\n",
       "    </tr>\n",
       "    <tr>\n",
       "      <th>19</th>\n",
       "      <td>Oaxaca</td>\n",
       "      <td>5.0</td>\n",
       "      <td>9010.0</td>\n",
       "    </tr>\n",
       "    <tr>\n",
       "      <th>18</th>\n",
       "      <td>Guerrero</td>\n",
       "      <td>5.0</td>\n",
       "      <td>11820.0</td>\n",
       "    </tr>\n",
       "    <tr>\n",
       "      <th>20</th>\n",
       "      <td>Tabasco</td>\n",
       "      <td>6.0</td>\n",
       "      <td>13360.0</td>\n",
       "    </tr>\n",
       "    <tr>\n",
       "      <th>16</th>\n",
       "      <td>Quintana Roo</td>\n",
       "      <td>6.0</td>\n",
       "      <td>33442.0</td>\n",
       "    </tr>\n",
       "    <tr>\n",
       "      <th>14</th>\n",
       "      <td>Campeche</td>\n",
       "      <td>6.0</td>\n",
       "      <td>36163.0</td>\n",
       "    </tr>\n",
       "    <tr>\n",
       "      <th>13</th>\n",
       "      <td>Yucatan</td>\n",
       "      <td>6.0</td>\n",
       "      <td>17509.0</td>\n",
       "    </tr>\n",
       "  </tbody>\n",
       "</table>\n",
       "</div>"
      ],
      "text/plain": [
       "                     NAME  HANSON03  PCGDP2000\n",
       "0   Baja California Norte       1.0    29855.0\n",
       "29             Nuevo Leon       1.0    38672.0\n",
       "24   Coahuila De Zaragoza       1.0    28460.0\n",
       "23              Chihuahua       1.0    30735.0\n",
       "22                 Sonora       1.0    24068.0\n",
       "30             Tamaulipas       1.0    23546.0\n",
       "1     Baja California Sur       2.0    26103.0\n",
       "2                 Nayarit       2.0    11478.0\n",
       "4          Aguascalientes       2.0    27782.0\n",
       "28        San Luis Potosi       2.0    15866.0\n",
       "27              Zacatecas       2.0    11130.0\n",
       "26                Durango       2.0    17379.0\n",
       "25                Sinaloa       2.0    15242.0\n",
       "17               Tlaxcala       3.0    11701.0\n",
       "15                 Puebla       3.0    15685.0\n",
       "31         Veracruz-Llave       3.0    12191.0\n",
       "3                 Jalisco       3.0    21610.0\n",
       "12                Morelos       3.0    18170.0\n",
       "5              Guanajuato       3.0    15585.0\n",
       "6    Queretaro de Arteaga       3.0    26149.0\n",
       "7                 Hidalgo       3.0    12348.0\n",
       "8     Michoacan de Ocampo       3.0    11838.0\n",
       "11                 Colima       3.0    21358.0\n",
       "9                  Mexico       4.0    16322.0\n",
       "10       Distrito Federal       4.0    54349.0\n",
       "21                Chiapas       5.0     8684.0\n",
       "19                 Oaxaca       5.0     9010.0\n",
       "18               Guerrero       5.0    11820.0\n",
       "20                Tabasco       6.0    13360.0\n",
       "16           Quintana Roo       6.0    33442.0\n",
       "14               Campeche       6.0    36163.0\n",
       "13                Yucatan       6.0    17509.0"
      ]
     },
     "execution_count": 9,
     "metadata": {},
     "output_type": "execute_result"
    }
   ],
   "source": [
    "mdf[['NAME', 'HANSON03', 'PCGDP2000']].sort_values(by='HANSON03')"
   ]
  },
  {
   "cell_type": "markdown",
   "metadata": {},
   "source": [
    "## How good is `HANSON03` as a partition?\n",
    "\n",
    "One question we might ask about the partition, is how good of a job does it do\n",
    "at capturing the spatial distribution of incomes in Mexico? To answer this\n",
    "question, we are going to leverage the random regions functionality in `spopt`.\n",
    "\n",
    "### A random partition respecting cardinality constraints\n",
    "\n",
    "We will first create a new random partition that has the same cardinality\n",
    "structure/distribution as the `HANSON03` partition:"
   ]
  },
  {
   "cell_type": "code",
   "execution_count": 10,
   "metadata": {},
   "outputs": [],
   "source": [
    "ids = mdf.index.values.tolist()"
   ]
  },
  {
   "cell_type": "code",
   "execution_count": 11,
   "metadata": {},
   "outputs": [],
   "source": [
    "np.random.seed(12345)\n",
    "rrmx = RandomRegion(ids, num_regions=6, cardinality = cards)"
   ]
  },
  {
   "cell_type": "markdown",
   "metadata": {},
   "source": [
    "This creates a new `RandomRegion` instance. One of its attributes is the\n",
    "definition of the regions in the partition:"
   ]
  },
  {
   "cell_type": "code",
   "execution_count": 12,
   "metadata": {},
   "outputs": [
    {
     "data": {
      "text/plain": [
       "[[27, 12, 18, 3, 15, 8],\n",
       " [0, 25, 21, 20, 7, 6, 24],\n",
       " [23, 10, 13, 11, 19, 16, 26, 14, 17, 22],\n",
       " [28, 31],\n",
       " [30, 9, 4],\n",
       " [1, 29, 5, 2]]"
      ]
     },
     "execution_count": 12,
     "metadata": {},
     "output_type": "execute_result"
    }
   ],
   "source": [
    "rrmx.regions"
   ]
  },
  {
   "cell_type": "markdown",
   "metadata": {},
   "source": [
    "This will have the same cardinality as the `HANSON03` partition:"
   ]
  },
  {
   "cell_type": "code",
   "execution_count": 13,
   "metadata": {},
   "outputs": [
    {
     "data": {
      "text/plain": [
       "True"
      ]
     },
     "execution_count": 13,
     "metadata": {},
     "output_type": "execute_result"
    }
   ],
   "source": [
    "set([len(region) for region in rrmx.regions]) == set(cards)"
   ]
  },
  {
   "cell_type": "markdown",
   "metadata": {},
   "source": [
    "A simple helper function let's us attach the region labels for this new\n",
    "partition into the dataframe:"
   ]
  },
  {
   "cell_type": "code",
   "execution_count": 14,
   "metadata": {},
   "outputs": [],
   "source": [
    "def region_labels(df, solution, name=\"labels_\"):\n",
    "    n,k = df.shape\n",
    "    labels_ = np.zeros((n,), int)\n",
    "    for i,region in enumerate(solution.regions):\n",
    "        labels_[region] = i\n",
    "    df[name] = labels_"
   ]
  },
  {
   "cell_type": "markdown",
   "metadata": {},
   "source": [
    "And, then we can visualize the new partition:"
   ]
  },
  {
   "cell_type": "code",
   "execution_count": 15,
   "metadata": {},
   "outputs": [
    {
     "data": {
      "text/plain": [
       "<matplotlib.axes._subplots.AxesSubplot at 0x7f2a3ebf77d0>"
      ]
     },
     "execution_count": 15,
     "metadata": {},
     "output_type": "execute_result"
    },
    {
     "data": {
      "image/png": "[encoded data removed]",
      "text/plain": [
       "<Figure size 720x360 with 1 Axes>"
      ]
     },
     "metadata": {
      "needs_background": "light"
     },
     "output_type": "display_data"
    }
   ],
   "source": [
    "region_labels(mdf, rrmx, name='rrmx')\n",
    "\n",
    "mdf.plot(column='rrmx', categorical=True)"
   ]
  },
  {
   "cell_type": "markdown",
   "metadata": {},
   "source": [
    "While the `rrmx` partition and the `HANSON03` partitions have identical\n",
    "cardinality structures, their spatial distributions are radically different.\n",
    "The `rrmx` map looks nothing like the `HANSON03` map.\n",
    "\n",
    "One of the key differences is that the sets in the `HANSON03` partition are\n",
    "each spatially connected components while this is not the case for the\n",
    "\"regions\" in the `rrmx` partition.\n",
    "\n",
    "### A random partition respecting cardinality and contiguity constraints\n",
    "\n",
    "A second way to form a random partition is to add an additional constraint in\n",
    "the form of the spatial connectivity between the states. To do so, we will\n",
    "construct a spatial weights object using the Queen contiguity criterion:"
   ]
  },
  {
   "cell_type": "code",
   "execution_count": 16,
   "metadata": {},
   "outputs": [],
   "source": [
    "w = libpysal.weights.Queen.from_dataframe(mdf)"
   ]
  },
  {
   "cell_type": "markdown",
   "metadata": {},
   "source": [
    "and then add this as an additional parameter to instantiate a new `RandomRegion`:"
   ]
  },
  {
   "cell_type": "code",
   "execution_count": 17,
   "metadata": {},
   "outputs": [],
   "source": [
    "rrmxc = RandomRegion(ids, num_regions=6, cardinality = cards, contiguity=w)"
   ]
  },
  {
   "cell_type": "code",
   "execution_count": 18,
   "metadata": {},
   "outputs": [
    {
     "data": {
      "text/plain": [
       "[[1, 0, 22, 25, 26, 2, 27, 4, 24, 23],\n",
       " [9, 8, 7, 18, 17, 11, 6],\n",
       " [13, 14, 16, 20, 21, 19],\n",
       " [12, 15, 10],\n",
       " [5, 28, 3, 29],\n",
       " [30, 31]]"
      ]
     },
     "execution_count": 18,
     "metadata": {},
     "output_type": "execute_result"
    }
   ],
   "source": [
    "rrmxc.regions"
   ]
  },
  {
   "cell_type": "markdown",
   "metadata": {},
   "source": [
    "This will also have the same cardinality as the `HANSON03` partition:"
   ]
  },
  {
   "cell_type": "code",
   "execution_count": 19,
   "metadata": {},
   "outputs": [
    {
     "data": {
      "text/plain": [
       "True"
      ]
     },
     "execution_count": 19,
     "metadata": {},
     "output_type": "execute_result"
    }
   ],
   "source": [
    "set([len(region) for region in rrmxc.regions]) == set(cards)"
   ]
  },
  {
   "cell_type": "markdown",
   "metadata": {},
   "source": [
    "But, more importantly, we see the partition yields spatially connected\n",
    "components for the regions:"
   ]
  },
  {
   "cell_type": "code",
   "execution_count": 20,
   "metadata": {},
   "outputs": [
    {
     "data": {
      "text/plain": [
       "<matplotlib.axes._subplots.AxesSubplot at 0x7f2a3ea433d0>"
      ]
     },
     "execution_count": 20,
     "metadata": {},
     "output_type": "execute_result"
    },
    {
     "data": {
      "image/png": "[encoded data removed]",
      "text/plain": [
       "<Figure size 720x360 with 1 Axes>"
      ]
     },
     "metadata": {
      "needs_background": "light"
     },
     "output_type": "display_data"
    }
   ],
   "source": [
    "region_labels(mdf, rrmxc, name='rrmxc')\n",
    "\n",
    "mdf.plot(column='rrmxc', categorical=True)"
   ]
  },
  {
   "cell_type": "markdown",
   "metadata": {},
   "source": [
    "## Comparing Partitions\n",
    "\n",
    "We now can get back to the question of how good the `HANSON03` partition does\n",
    "in capturing the spatial structure of state incomes in Mexico. Two alternative\n",
    "random partitions have been constructed using `RandomRegion` and we can compare\n",
    "these with the `HANSON03` partition:"
   ]
  },
  {
   "cell_type": "code",
   "execution_count": 21,
   "metadata": {},
   "outputs": [
    {
     "data": {
      "image/png": "[encoded data removed]",
      "text/plain": [
       "<Figure size 1440x720 with 3 Axes>"
      ]
     },
     "metadata": {
      "needs_background": "light"
     },
     "output_type": "display_data"
    }
   ],
   "source": [
    "import matplotlib.pyplot as plt\n",
    "f, axs = plt.subplots(1, 3, figsize=(20, 10))\n",
    "ax1, ax2, ax3 = axs\n",
    "\n",
    "mdf.plot(column='HANSON03', categorical=True, ax=ax1)\n",
    "ax1.set_axis_off()\n",
    "ax1.set_title(\"HANSON03\")\n",
    "\n",
    "mdf.plot(column='rrmx', categorical=True, ax=ax2)\n",
    "ax2.set_axis_off()\n",
    "ax2.set_title(\"Cardinality Constrained\")\n",
    "\n",
    "mdf.plot(column='rrmxc', categorical=True, ax=ax3)\n",
    "ax3.set_axis_off()\n",
    "ax3.set_title(\"Cardinality and Contiguity Constrained\")\n",
    "plt.show()"
   ]
  },
  {
   "cell_type": "markdown",
   "metadata": {},
   "source": [
    "In order to judge the `HANSON03` regions against those from the two random\n",
    "solutions, we need some objective function to serve as our benchmark. Given the\n",
    "interest in the spatial distribution of incomes, we might ask if a partition\n",
    "has minimized the internal heterogeneity of the incomes for states belonging to\n",
    "each set?\n",
    "\n",
    "We can use the PySAL [`inequality`](https://inequality.readthedocs.io/en/latest/) package to implement this measure:"
   ]
  },
  {
   "cell_type": "code",
   "execution_count": 22,
   "metadata": {},
   "outputs": [],
   "source": [
    "import inequality"
   ]
  },
  {
   "cell_type": "markdown",
   "metadata": {},
   "source": [
    "Let's focus on the last year in the sample and pull out the state incomes:"
   ]
  },
  {
   "cell_type": "code",
   "execution_count": 23,
   "metadata": {},
   "outputs": [],
   "source": [
    "y = mdf.PCGDP2000"
   ]
  },
  {
   "cell_type": "markdown",
   "metadata": {},
   "source": [
    "The [TheilD](https://inequality.readthedocs.io/en/latest/generated/inequality.theil.TheilD.html#inequality.theil.TheilD) statistic decomposes the inequality of the 32 state incomes into\n",
    "two parts:\n",
    "\n",
    "- inequality between states belonging to different regions (inequality between regions)\n",
    "- inequality between states belonging to the same region (inequality within regions)\n",
    "\n",
    "We can calculate this for the original partition:"
   ]
  },
  {
   "cell_type": "code",
   "execution_count": 24,
   "metadata": {},
   "outputs": [],
   "source": [
    "t_hanson = inequality.theil.TheilD(y, mdf.HANSON03)"
   ]
  },
  {
   "cell_type": "markdown",
   "metadata": {},
   "source": [
    "The overall level of inequality is:"
   ]
  },
  {
   "cell_type": "code",
   "execution_count": 25,
   "metadata": {},
   "outputs": [
    {
     "data": {
      "text/plain": [
       "0.10660832349588023"
      ]
     },
     "execution_count": 25,
     "metadata": {},
     "output_type": "execute_result"
    }
   ],
   "source": [
    "t_hanson.T"
   ]
  },
  {
   "cell_type": "markdown",
   "metadata": {},
   "source": [
    "which is decomposed into the \"between-regions\" component:"
   ]
  },
  {
   "cell_type": "code",
   "execution_count": 26,
   "metadata": {},
   "outputs": [
    {
     "data": {
      "text/plain": [
       "array([0.05373534])"
      ]
     },
     "execution_count": 26,
     "metadata": {},
     "output_type": "execute_result"
    }
   ],
   "source": [
    "t_hanson.bg"
   ]
  },
  {
   "cell_type": "markdown",
   "metadata": {},
   "source": [
    "and the \"within-regions\" component:"
   ]
  },
  {
   "cell_type": "code",
   "execution_count": 27,
   "metadata": {},
   "outputs": [
    {
     "data": {
      "text/plain": [
       "array([0.05287298])"
      ]
     },
     "execution_count": 27,
     "metadata": {},
     "output_type": "execute_result"
    }
   ],
   "source": [
    "t_hanson.wg"
   ]
  },
  {
   "cell_type": "markdown",
   "metadata": {},
   "source": [
    "For this partition, the two components are roughly equal. How does this compare\n",
    "to a random partition? Well, for a random partition with the same cardinality\n",
    "structure as `HANSON03` we can carry out the same decomposition:"
   ]
  },
  {
   "cell_type": "code",
   "execution_count": 28,
   "metadata": {},
   "outputs": [],
   "source": [
    "t_rrmx = inequality.theil.TheilD(y, mdf.rrmx)"
   ]
  },
  {
   "cell_type": "markdown",
   "metadata": {},
   "source": [
    "The level of overall inequality will be the same:"
   ]
  },
  {
   "cell_type": "code",
   "execution_count": 29,
   "metadata": {},
   "outputs": [
    {
     "data": {
      "text/plain": [
       "0.10660832349588023"
      ]
     },
     "execution_count": 29,
     "metadata": {},
     "output_type": "execute_result"
    }
   ],
   "source": [
    "t_rrmx.T"
   ]
  },
  {
   "cell_type": "markdown",
   "metadata": {},
   "source": [
    "however, the decomposition is very different now, with the within component\n",
    "being much larger than the between component."
   ]
  },
  {
   "cell_type": "code",
   "execution_count": 30,
   "metadata": {},
   "outputs": [
    {
     "data": {
      "text/plain": [
       "array([0.02096667])"
      ]
     },
     "execution_count": 30,
     "metadata": {},
     "output_type": "execute_result"
    }
   ],
   "source": [
    "t_rrmx.bg"
   ]
  },
  {
   "cell_type": "code",
   "execution_count": 31,
   "metadata": {},
   "outputs": [
    {
     "data": {
      "text/plain": [
       "array([0.08564165])"
      ]
     },
     "execution_count": 31,
     "metadata": {},
     "output_type": "execute_result"
    }
   ],
   "source": [
    "t_rrmx.wg"
   ]
  },
  {
   "cell_type": "markdown",
   "metadata": {},
   "source": [
    "How about when both cardinality and contiguity are taken into account when\n",
    "developing the random partition? We can pass in the partition definition for\n",
    "this solution into the decomposition:"
   ]
  },
  {
   "cell_type": "code",
   "execution_count": 32,
   "metadata": {},
   "outputs": [],
   "source": [
    "t_rrmxc = inequality.theil.TheilD(y, mdf.rrmxc)"
   ]
  },
  {
   "cell_type": "markdown",
   "metadata": {},
   "source": [
    "Again, the total inequality remains the same:"
   ]
  },
  {
   "cell_type": "code",
   "execution_count": 33,
   "metadata": {},
   "outputs": [
    {
     "data": {
      "text/plain": [
       "0.10660832349588023"
      ]
     },
     "execution_count": 33,
     "metadata": {},
     "output_type": "execute_result"
    }
   ],
   "source": [
    "t_rrmxc.T"
   ]
  },
  {
   "cell_type": "markdown",
   "metadata": {},
   "source": [
    "and the within-region component is even larger than either the `HANSON03` and `rrmx` partitions:"
   ]
  },
  {
   "cell_type": "code",
   "execution_count": 34,
   "metadata": {},
   "outputs": [
    {
     "data": {
      "text/plain": [
       "array([0.01583277])"
      ]
     },
     "execution_count": 34,
     "metadata": {},
     "output_type": "execute_result"
    }
   ],
   "source": [
    "t_rrmxc.bg"
   ]
  },
  {
   "cell_type": "code",
   "execution_count": 35,
   "metadata": {},
   "outputs": [
    {
     "data": {
      "text/plain": [
       "array([0.09077556])"
      ]
     },
     "execution_count": 35,
     "metadata": {},
     "output_type": "execute_result"
    }
   ],
   "source": [
    "t_rrmxc.wg"
   ]
  },
  {
   "cell_type": "markdown",
   "metadata": {},
   "source": [
    "### Generating a Reference Distribution\n",
    "\n",
    "Both of the comparison partitions are examples of random partitions, subject to\n",
    "matching the cardinality (`rrmx`) or cardinality and contiguity constraints\n",
    "(`rmxc`). As such, the generated partitions should be viewed as samples from\n",
    "the population of all possible random partitions that also respect those\n",
    "constraints. Rather than relying on a single draw from each of these\n",
    "distributions, as we have done up to now, if we sample from these distributions, we can develop an\n",
    "empirical reference distribution to compare the original `HANSON03` partition\n",
    "against. In other words, we can ask if the latter partition is performing any\n",
    "better than a random partition that respects the cardinality and contiguity\n",
    "constraints.\n",
    "\n",
    "We can do this by adding in a `permutations` argument to the class\n",
    "`RandomRegions`. Note the plural here in that this class is intended to\n",
    "generate `permutations` solutions for the random regions that respect the\n",
    "relevant cardinality and contiguity constraints. We will generate `permutations=99` \n",
    "solutions and calculate the inequality decomposition for each of the 99\n",
    "partitions, extracting the `wg` component to develop the reference distribution\n",
    "against which we can evaluate the observed `wg` value from the `HANSON03` partition:"
   ]
  },
  {
   "cell_type": "code",
   "execution_count": 36,
   "metadata": {},
   "outputs": [],
   "source": [
    "rrmxcs = RandomRegions(ids, num_regions=6, cardinality = cards, \n",
    "                       contiguity=w, permutations=99)\n",
    "wg = []\n",
    "for i,solution in enumerate(rrmxcs.solutions_feas):\n",
    "    name = f'rrmxc_{i}'\n",
    "    region_labels(mdf, solution, name=name)\n",
    "    wg.append(inequality.theil.TheilD(y, mdf[name]).wg)\n",
    "wg = np.array(wg)\n",
    "    "
   ]
  },
  {
   "cell_type": "markdown",
   "metadata": {},
   "source": [
    "The mean of the within-region inequality component is:"
   ]
  },
  {
   "cell_type": "code",
   "execution_count": 37,
   "metadata": {},
   "outputs": [
    {
     "data": {
      "text/plain": [
       "0.08555039625247532"
      ]
     },
     "execution_count": 37,
     "metadata": {},
     "output_type": "execute_result"
    }
   ],
   "source": [
    "wg.mean()"
   ]
  },
  {
   "cell_type": "markdown",
   "metadata": {},
   "source": [
    "which is larger than the observed value for `HANSON03`:"
   ]
  },
  {
   "cell_type": "code",
   "execution_count": 38,
   "metadata": {},
   "outputs": [
    {
     "data": {
      "text/plain": [
       "array([0.05287298])"
      ]
     },
     "execution_count": 38,
     "metadata": {},
     "output_type": "execute_result"
    }
   ],
   "source": [
    "t_hanson.wg"
   ]
  },
  {
   "cell_type": "markdown",
   "metadata": {},
   "source": [
    "Examining the empirical distribution of the within-region inequality component\n",
    "for the random partitions:"
   ]
  },
  {
   "cell_type": "code",
   "execution_count": 39,
   "metadata": {},
   "outputs": [],
   "source": [
    "import seaborn as sbn\n",
    "import pandas\n",
    "rdf = pandas.DataFrame(data=wg, columns=['Within-region inequality'])"
   ]
  },
  {
   "cell_type": "code",
   "execution_count": 40,
   "metadata": {},
   "outputs": [
    {
     "data": {
      "image/png": "[encoded data removed]",
      "text/plain": [
       "<Figure size 360x360 with 1 Axes>"
      ]
     },
     "metadata": {
      "needs_background": "light"
     },
     "output_type": "display_data"
    }
   ],
   "source": [
    "_ = sbn.displot(rdf,  kind='kde', legend=False, \n",
    "                x='Within-region inequality', rug=True)"
   ]
  },
  {
   "cell_type": "markdown",
   "metadata": {},
   "source": [
    "provides a more comprehensive benchmark for evaluating the `HANSON03`\n",
    "partition. We see that the observed within-region component is extreme relative\n",
    "to what we would expect if the partitions were formed randomly subject to the\n",
    "cardinality and contiguity constraints:"
   ]
  },
  {
   "cell_type": "code",
   "execution_count": 41,
   "metadata": {},
   "outputs": [
    {
     "data": {
      "text/plain": [
       "array([0.05287298])"
      ]
     },
     "execution_count": 41,
     "metadata": {},
     "output_type": "execute_result"
    }
   ],
   "source": [
    "t_hanson.wg"
   ]
  },
  {
   "cell_type": "code",
   "execution_count": 42,
   "metadata": {},
   "outputs": [
    {
     "data": {
      "text/plain": [
       "0.06054845003683249"
      ]
     },
     "execution_count": 42,
     "metadata": {},
     "output_type": "execute_result"
    }
   ],
   "source": [
    "wg.min()"
   ]
  },
  {
   "cell_type": "markdown",
   "metadata": {},
   "source": [
    "We could even formalize this statement by developing a pseudo p-value for the\n",
    "observed component:"
   ]
  },
  {
   "cell_type": "code",
   "execution_count": 43,
   "metadata": {},
   "outputs": [
    {
     "data": {
      "text/plain": [
       "0.01"
      ]
     },
     "execution_count": 43,
     "metadata": {},
     "output_type": "execute_result"
    }
   ],
   "source": [
    "pvalue = (1 + (wg<=t_hanson.wg[0]).sum()) / 100\n",
    "pvalue"
   ]
  },
  {
   "cell_type": "markdown",
   "metadata": {},
   "source": [
    "which would lead us to conclude that the observed value is significantly\n",
    "different from what would be expected under a random region null. \n",
    "\n",
    "So, yes,the `HANSON03` partition does appear to be capturing the spatial\n",
    "pattern of incomes in Mexico in the sense that its larger within-region\n",
    "inequality component is not due to random chance."
   ]
  }
 ],
 "metadata": {
  "jupytext": {
   "formats": "ipynb,md:myst"
  },
  "kernelspec": {
   "display_name": "Python 3",
   "language": "python",
   "name": "python3"
  },
  "language_info": {
   "codemirror_mode": {
    "name": "ipython",
    "version": 3
   },
   "file_extension": ".py",
   "mimetype": "text/x-python",
   "name": "python",
   "nbconvert_exporter": "python",
   "pygments_lexer": "ipython3",
   "version": "3.7.9"
  }
 },
 "nbformat": 4,
 "nbformat_minor": 4
}
